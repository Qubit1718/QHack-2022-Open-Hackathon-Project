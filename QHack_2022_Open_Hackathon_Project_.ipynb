{
  "cells": [
    {
      "cell_type": "code",
      "source": [
        "!pip install qiskit[nature]"
      ],
      "metadata": {
        "colab": {
          "base_uri": "https://localhost:8080/"
        },
        "id": "EaRTfzseB_Tg",
        "outputId": "726c9253-1eac-4b92-ffc8-82b03bea9ab4"
      },
      "id": "EaRTfzseB_Tg",
      "execution_count": null,
      "outputs": [
        {
          "output_type": "stream",
          "name": "stdout",
          "text": [
            "Requirement already satisfied: qiskit[nature] in /usr/local/lib/python3.7/dist-packages (0.34.2)\n",
            "Requirement already satisfied: qiskit-ibmq-provider==0.18.3 in /usr/local/lib/python3.7/dist-packages (from qiskit[nature]) (0.18.3)\n",
            "Requirement already satisfied: qiskit-terra==0.19.2 in /usr/local/lib/python3.7/dist-packages (from qiskit[nature]) (0.19.2)\n",
            "Requirement already satisfied: qiskit-aer==0.10.3 in /usr/local/lib/python3.7/dist-packages (from qiskit[nature]) (0.10.3)\n",
            "Requirement already satisfied: qiskit-ignis==0.7.0 in /usr/local/lib/python3.7/dist-packages (from qiskit[nature]) (0.7.0)\n",
            "Requirement already satisfied: qiskit-nature>=0.3.0 in /usr/local/lib/python3.7/dist-packages (from qiskit[nature]) (0.3.1)\n",
            "Requirement already satisfied: numpy>=1.16.3 in /usr/local/lib/python3.7/dist-packages (from qiskit-aer==0.10.3->qiskit[nature]) (1.21.5)\n",
            "Requirement already satisfied: scipy>=1.0 in /usr/local/lib/python3.7/dist-packages (from qiskit-aer==0.10.3->qiskit[nature]) (1.7.3)\n",
            "Requirement already satisfied: python-dateutil>=2.8.0 in /usr/local/lib/python3.7/dist-packages (from qiskit-ibmq-provider==0.18.3->qiskit[nature]) (2.8.2)\n",
            "Requirement already satisfied: requests-ntlm>=1.1.0 in /usr/local/lib/python3.7/dist-packages (from qiskit-ibmq-provider==0.18.3->qiskit[nature]) (1.1.0)\n",
            "Requirement already satisfied: websocket-client>=1.0.1 in /usr/local/lib/python3.7/dist-packages (from qiskit-ibmq-provider==0.18.3->qiskit[nature]) (1.2.3)\n",
            "Requirement already satisfied: requests>=2.19 in /usr/local/lib/python3.7/dist-packages (from qiskit-ibmq-provider==0.18.3->qiskit[nature]) (2.23.0)\n",
            "Requirement already satisfied: urllib3>=1.21.1 in /usr/local/lib/python3.7/dist-packages (from qiskit-ibmq-provider==0.18.3->qiskit[nature]) (1.24.3)\n",
            "Requirement already satisfied: retworkx>=0.8.0 in /usr/local/lib/python3.7/dist-packages (from qiskit-ignis==0.7.0->qiskit[nature]) (0.11.0)\n",
            "Requirement already satisfied: setuptools>=40.1.0 in /usr/local/lib/python3.7/dist-packages (from qiskit-ignis==0.7.0->qiskit[nature]) (57.4.0)\n",
            "Requirement already satisfied: symengine>=0.8 in /usr/local/lib/python3.7/dist-packages (from qiskit-terra==0.19.2->qiskit[nature]) (0.9.0)\n",
            "Requirement already satisfied: python-constraint>=1.4 in /usr/local/lib/python3.7/dist-packages (from qiskit-terra==0.19.2->qiskit[nature]) (1.4.0)\n",
            "Requirement already satisfied: tweedledum<2.0,>=1.1 in /usr/local/lib/python3.7/dist-packages (from qiskit-terra==0.19.2->qiskit[nature]) (1.1.1)\n",
            "Requirement already satisfied: ply>=3.10 in /usr/local/lib/python3.7/dist-packages (from qiskit-terra==0.19.2->qiskit[nature]) (3.11)\n",
            "Requirement already satisfied: stevedore>=3.0.0 in /usr/local/lib/python3.7/dist-packages (from qiskit-terra==0.19.2->qiskit[nature]) (3.5.0)\n",
            "Requirement already satisfied: psutil>=5 in /usr/local/lib/python3.7/dist-packages (from qiskit-terra==0.19.2->qiskit[nature]) (5.4.8)\n",
            "Requirement already satisfied: dill>=0.3 in /usr/local/lib/python3.7/dist-packages (from qiskit-terra==0.19.2->qiskit[nature]) (0.3.4)\n",
            "Requirement already satisfied: sympy>=1.3 in /usr/local/lib/python3.7/dist-packages (from qiskit-terra==0.19.2->qiskit[nature]) (1.7.1)\n",
            "Requirement already satisfied: six>=1.5 in /usr/local/lib/python3.7/dist-packages (from python-dateutil>=2.8.0->qiskit-ibmq-provider==0.18.3->qiskit[nature]) (1.15.0)\n",
            "Requirement already satisfied: h5py in /usr/local/lib/python3.7/dist-packages (from qiskit-nature>=0.3.0->qiskit[nature]) (3.1.0)\n",
            "Requirement already satisfied: scikit-learn>=0.20.0 in /usr/local/lib/python3.7/dist-packages (from qiskit-nature>=0.3.0->qiskit[nature]) (1.0.2)\n",
            "Requirement already satisfied: certifi>=2017.4.17 in /usr/local/lib/python3.7/dist-packages (from requests>=2.19->qiskit-ibmq-provider==0.18.3->qiskit[nature]) (2021.10.8)\n",
            "Requirement already satisfied: idna<3,>=2.5 in /usr/local/lib/python3.7/dist-packages (from requests>=2.19->qiskit-ibmq-provider==0.18.3->qiskit[nature]) (2.10)\n",
            "Requirement already satisfied: chardet<4,>=3.0.2 in /usr/local/lib/python3.7/dist-packages (from requests>=2.19->qiskit-ibmq-provider==0.18.3->qiskit[nature]) (3.0.4)\n",
            "Requirement already satisfied: ntlm-auth>=1.0.2 in /usr/local/lib/python3.7/dist-packages (from requests-ntlm>=1.1.0->qiskit-ibmq-provider==0.18.3->qiskit[nature]) (1.5.0)\n",
            "Requirement already satisfied: cryptography>=1.3 in /usr/local/lib/python3.7/dist-packages (from requests-ntlm>=1.1.0->qiskit-ibmq-provider==0.18.3->qiskit[nature]) (36.0.1)\n",
            "Requirement already satisfied: cffi>=1.12 in /usr/local/lib/python3.7/dist-packages (from cryptography>=1.3->requests-ntlm>=1.1.0->qiskit-ibmq-provider==0.18.3->qiskit[nature]) (1.15.0)\n",
            "Requirement already satisfied: pycparser in /usr/local/lib/python3.7/dist-packages (from cffi>=1.12->cryptography>=1.3->requests-ntlm>=1.1.0->qiskit-ibmq-provider==0.18.3->qiskit[nature]) (2.21)\n",
            "Requirement already satisfied: threadpoolctl>=2.0.0 in /usr/local/lib/python3.7/dist-packages (from scikit-learn>=0.20.0->qiskit-nature>=0.3.0->qiskit[nature]) (3.1.0)\n",
            "Requirement already satisfied: joblib>=0.11 in /usr/local/lib/python3.7/dist-packages (from scikit-learn>=0.20.0->qiskit-nature>=0.3.0->qiskit[nature]) (1.1.0)\n",
            "Requirement already satisfied: pbr!=2.1.0,>=2.0.0 in /usr/local/lib/python3.7/dist-packages (from stevedore>=3.0.0->qiskit-terra==0.19.2->qiskit[nature]) (5.8.1)\n",
            "Requirement already satisfied: importlib-metadata>=1.7.0 in /usr/local/lib/python3.7/dist-packages (from stevedore>=3.0.0->qiskit-terra==0.19.2->qiskit[nature]) (4.11.0)\n",
            "Requirement already satisfied: zipp>=0.5 in /usr/local/lib/python3.7/dist-packages (from importlib-metadata>=1.7.0->stevedore>=3.0.0->qiskit-terra==0.19.2->qiskit[nature]) (3.7.0)\n",
            "Requirement already satisfied: typing-extensions>=3.6.4 in /usr/local/lib/python3.7/dist-packages (from importlib-metadata>=1.7.0->stevedore>=3.0.0->qiskit-terra==0.19.2->qiskit[nature]) (3.10.0.2)\n",
            "Requirement already satisfied: mpmath>=0.19 in /usr/local/lib/python3.7/dist-packages (from sympy>=1.3->qiskit-terra==0.19.2->qiskit[nature]) (1.2.1)\n",
            "Requirement already satisfied: cached-property in /usr/local/lib/python3.7/dist-packages (from h5py->qiskit-nature>=0.3.0->qiskit[nature]) (1.5.2)\n"
          ]
        }
      ]
    },
    {
      "cell_type": "markdown",
      "id": "18cd5ead-fa49-458c-adc3-fcb43984d6d8",
      "metadata": {
        "id": "18cd5ead-fa49-458c-adc3-fcb43984d6d8"
      },
      "source": [
        "## Protein Folding - No Chain - AER Simulator "
      ]
    },
    {
      "cell_type": "code",
      "execution_count": null,
      "id": "63c6850f-1630-4b0b-a781-5c71c36e7dc5",
      "metadata": {
        "id": "63c6850f-1630-4b0b-a781-5c71c36e7dc5"
      },
      "outputs": [],
      "source": [
        "from qiskit_nature.problems.sampling.protein_folding.interactions.random_interaction import (\n",
        "    RandomInteraction,\n",
        ")\n",
        "from qiskit_nature.problems.sampling.protein_folding.interactions.miyazawa_jernigan_interaction import (\n",
        "    MiyazawaJerniganInteraction,\n",
        ")\n",
        "from qiskit_nature.problems.sampling.protein_folding.peptide.peptide import Peptide\n",
        "from qiskit_nature.problems.sampling.protein_folding.protein_folding_problem import (\n",
        "    ProteinFoldingProblem,\n",
        ")\n",
        "\n",
        "from qiskit_nature.problems.sampling.protein_folding.penalty_parameters import PenaltyParameters\n",
        "\n",
        "from qiskit.utils import algorithm_globals, QuantumInstance\n",
        "\n",
        "algorithm_globals.random_seed = 23"
      ]
    },
    {
      "cell_type": "code",
      "execution_count": null,
      "id": "41b24637-fa65-41a1-9de2-fc3d685ceccb",
      "metadata": {
        "id": "41b24637-fa65-41a1-9de2-fc3d685ceccb"
      },
      "outputs": [],
      "source": [
        "main_chain = \"YPYFIP\""
      ]
    },
    {
      "cell_type": "code",
      "execution_count": null,
      "id": "739f5342-b172-48d3-965b-e3d70403431a",
      "metadata": {
        "id": "739f5342-b172-48d3-965b-e3d70403431a"
      },
      "outputs": [],
      "source": [
        "side_chains = [\"\"] * 6"
      ]
    },
    {
      "cell_type": "code",
      "execution_count": null,
      "id": "de14f0b8-7346-4a73-aeb9-acc78e74eaa4",
      "metadata": {
        "id": "de14f0b8-7346-4a73-aeb9-acc78e74eaa4"
      },
      "outputs": [],
      "source": [
        "random_interaction = RandomInteraction()\n",
        "mj_interaction = MiyazawaJerniganInteraction()"
      ]
    },
    {
      "cell_type": "code",
      "execution_count": null,
      "id": "9f987a8f-9ea7-4978-b148-761485d91170",
      "metadata": {
        "id": "9f987a8f-9ea7-4978-b148-761485d91170"
      },
      "outputs": [],
      "source": [
        "penalty_back = 10\n",
        "penalty_chiral = 10\n",
        "penalty_1 = 10\n",
        "\n",
        "penalty_terms = PenaltyParameters(penalty_chiral, penalty_back, penalty_1)"
      ]
    },
    {
      "cell_type": "code",
      "execution_count": null,
      "id": "9f2f5e12-01bd-4986-8669-968ef67e42ab",
      "metadata": {
        "id": "9f2f5e12-01bd-4986-8669-968ef67e42ab"
      },
      "outputs": [],
      "source": [
        "peptide = Peptide(main_chain, side_chains)"
      ]
    },
    {
      "cell_type": "code",
      "execution_count": null,
      "id": "027a3954-fdb0-453a-81ba-f29f049f6737",
      "metadata": {
        "id": "027a3954-fdb0-453a-81ba-f29f049f6737"
      },
      "outputs": [],
      "source": [
        "protein_folding_problem = ProteinFoldingProblem(peptide, mj_interaction, penalty_terms)\n",
        "qubit_op = protein_folding_problem.qubit_op()"
      ]
    },
    {
      "cell_type": "code",
      "execution_count": null,
      "id": "6af0e696-3b57-419d-b0f5-8686a0e4f9ec",
      "metadata": {
        "colab": {
          "base_uri": "https://localhost:8080/"
        },
        "id": "6af0e696-3b57-419d-b0f5-8686a0e4f9ec",
        "outputId": "41101a43-20e6-4a07-d0d2-d32fa31baaca"
      },
      "outputs": [
        {
          "output_type": "stream",
          "name": "stdout",
          "text": [
            "929.4905 * IIIIII\n",
            "- 924.4905 * ZIIIII\n",
            "- 310.0 * IZIIII\n",
            "+ 310.0 * ZZIIII\n",
            "+ 2.5 * IIZIII\n",
            "- 2.5 * ZIZIII\n",
            "- 207.5 * IZZIII\n",
            "+ 207.5 * ZZZIII\n",
            "+ 300.0 * IIIZII\n",
            "- 302.5 * ZIIZII\n",
            "- 100.0 * IZIZII\n",
            "+ 102.5 * ZZIZII\n",
            "- 2.5 * IIIIZI\n",
            "+ 2.5 * ZIIIZI\n",
            "- 100.0 * IIZIZI\n",
            "+ 102.5 * ZIZIZI\n",
            "+ 202.5 * IIIZZI\n",
            "- 202.5 * ZIIZZI\n",
            "- 100.0 * IZZZZI\n",
            "+ 102.5 * ZZZZZI\n",
            "+ 205.0 * IIIIIZ\n",
            "- 205.0 * ZIIIIZ\n",
            "+ 102.5 * IIZIIZ\n",
            "- 102.5 * ZIZIIZ\n",
            "- 102.5 * IZZIIZ\n",
            "+ 102.5 * ZZZIIZ\n",
            "- 97.5 * IIIIZZ\n",
            "+ 100.0 * ZIIIZZ\n",
            "+ 97.5 * IIIZZZ\n",
            "- 100.0 * ZIIZZZ\n"
          ]
        }
      ],
      "source": [
        "print(qubit_op)"
      ]
    },
    {
      "cell_type": "code",
      "execution_count": null,
      "id": "4ba5af88-83ba-4cd4-bac4-ae02902ac188",
      "metadata": {
        "colab": {
          "base_uri": "https://localhost:8080/"
        },
        "id": "4ba5af88-83ba-4cd4-bac4-ae02902ac188",
        "outputId": "fc63317b-969b-4edc-85a4-3630a1557859"
      },
      "outputs": [
        {
          "output_type": "stream",
          "name": "stdout",
          "text": [
            "{   'aux_operator_eigenvalues': None,\n",
            "    'cost_function_evals': 50,\n",
            "    'eigenstate': {   '000000': 0.1,\n",
            "                      '000011': 0.2449489742783178,\n",
            "                      '000100': 0.4242640687119285,\n",
            "                      '000101': 0.1414213562373095,\n",
            "                      '001100': 0.33166247903553997,\n",
            "                      '001101': 0.17320508075688773,\n",
            "                      '001111': 0.22360679774997896,\n",
            "                      '010000': 0.1,\n",
            "                      '010011': 0.31622776601683794,\n",
            "                      '010100': 0.31622776601683794,\n",
            "                      '010101': 0.1414213562373095,\n",
            "                      '010111': 0.17320508075688773,\n",
            "                      '011100': 0.2,\n",
            "                      '100100': 0.1,\n",
            "                      '100101': 0.1414213562373095,\n",
            "                      '100111': 0.1,\n",
            "                      '101100': 0.22360679774997896,\n",
            "                      '101111': 0.1,\n",
            "                      '110011': 0.22360679774997896,\n",
            "                      '110100': 0.2449489742783178,\n",
            "                      '110101': 0.1,\n",
            "                      '111100': 0.1414213562373095},\n",
            "    'eigenvalue': (-0.2038000000000011+0j),\n",
            "    'optimal_parameters': {   ParameterVectorElement(θ[0]): 1.218517482962425,\n",
            "                              ParameterVectorElement(θ[1]): 0.8888082150018626,\n",
            "                              ParameterVectorElement(θ[2]): -2.3332971535037066,\n",
            "                              ParameterVectorElement(θ[3]): -2.4271439036965847,\n",
            "                              ParameterVectorElement(θ[4]): 0.9634983265712727,\n",
            "                              ParameterVectorElement(θ[5]): 2.2208364949185153,\n",
            "                              ParameterVectorElement(θ[6]): -1.8737769607784178,\n",
            "                              ParameterVectorElement(θ[7]): -1.7717411563613783,\n",
            "                              ParameterVectorElement(θ[8]): 1.360841402195895,\n",
            "                              ParameterVectorElement(θ[9]): -0.18409939874633396,\n",
            "                              ParameterVectorElement(θ[10]): -0.5326763197693336,\n",
            "                              ParameterVectorElement(θ[11]): -0.9478322969540387},\n",
            "    'optimal_point': array([ 1.21851748,  0.88880822, -2.33329715, -2.4271439 ,  0.96349833,\n",
            "        2.22083649, -1.87377696, -1.77174116,  1.3608414 , -0.1840994 ,\n",
            "       -0.53267632, -0.9478323 ]),\n",
            "    'optimal_value': -0.2038000000000011,\n",
            "    'optimizer_evals': None,\n",
            "    'optimizer_time': 2.8280773162841797}\n"
          ]
        }
      ],
      "source": [
        "from qiskit.circuit.library import RealAmplitudes\n",
        "from qiskit.algorithms.optimizers import COBYLA\n",
        "from qiskit.algorithms import NumPyMinimumEigensolver, VQE\n",
        "from qiskit.opflow import PauliExpectation, CVaRExpectation\n",
        "from qiskit import execute, Aer\n",
        "\n",
        "# set classical optimizer\n",
        "optimizer = COBYLA(maxiter=50)\n",
        "\n",
        "# set variational ansatz\n",
        "ansatz = RealAmplitudes(reps=1)\n",
        "\n",
        "# set the backend\n",
        "backend_name = \"aer_simulator\"\n",
        "backend = QuantumInstance(\n",
        "    Aer.get_backend(backend_name),\n",
        "    shots=100,\n",
        "    seed_transpiler=algorithm_globals.random_seed,\n",
        "    seed_simulator=algorithm_globals.random_seed,\n",
        ")\n",
        "\n",
        "counts = []\n",
        "values = []\n",
        "\n",
        "\n",
        "def store_intermediate_result(eval_count, parameters, mean, std):\n",
        "    counts.append(eval_count)\n",
        "    values.append(mean)\n",
        "\n",
        "\n",
        "# initialize CVaR_alpha objective with alpha = 0.1\n",
        "cvar_exp = CVaRExpectation(0.1, PauliExpectation())\n",
        "\n",
        "# initialize VQE using CVaR\n",
        "vqe = VQE(\n",
        "    expectation=cvar_exp,\n",
        "    optimizer=optimizer,\n",
        "    ansatz=ansatz,\n",
        "    quantum_instance=backend,\n",
        "    callback=store_intermediate_result,\n",
        ")\n",
        "\n",
        "result = vqe.compute_minimum_eigenvalue(qubit_op)\n",
        "print(result)"
      ]
    },
    {
      "cell_type": "code",
      "execution_count": null,
      "id": "8d56490a-beca-481f-b55c-87d775e44c03",
      "metadata": {
        "colab": {
          "base_uri": "https://localhost:8080/",
          "height": 279
        },
        "id": "8d56490a-beca-481f-b55c-87d775e44c03",
        "outputId": "9fa32846-7486-4001-d6ab-6d73a9361048"
      },
      "outputs": [
        {
          "output_type": "display_data",
          "data": {
            "image/png": "[encoded data removed]",
            "text/plain": [
              "<Figure size 432x288 with 2 Axes>"
            ]
          },
          "metadata": {
            "needs_background": "light"
          }
        }
      ],
      "source": [
        "import matplotlib.pyplot as plt\n",
        "\n",
        "fig = plt.figure()\n",
        "\n",
        "plt.plot(counts, values)\n",
        "plt.ylabel(\"Conformation Energy\")\n",
        "plt.xlabel(\"VQE Iterations\")\n",
        "\n",
        "fig.add_axes([0.44, 0.51, 0.44, 0.32])\n",
        "\n",
        "plt.plot(counts[40:], values[40:])\n",
        "plt.ylabel(\"Conformation Energy\")\n",
        "plt.xlabel(\"VQE Iterations\")\n",
        "plt.show()"
      ]
    },
    {
      "cell_type": "markdown",
      "source": [
        "## with 1000 shots"
      ],
      "metadata": {
        "id": "Wob3Bm3QBmsx"
      },
      "id": "Wob3Bm3QBmsx"
    },
    {
      "cell_type": "code",
      "source": [
        "from qiskit.circuit.library import RealAmplitudes\n",
        "from qiskit.algorithms.optimizers import COBYLA\n",
        "from qiskit.algorithms import NumPyMinimumEigensolver, VQE\n",
        "from qiskit.opflow import PauliExpectation, CVaRExpectation\n",
        "from qiskit import execute, Aer\n",
        "\n",
        "# set classical optimizer\n",
        "optimizer = COBYLA(maxiter=50)\n",
        "\n",
        "# set variational ansatz\n",
        "ansatz = RealAmplitudes(reps=1)\n",
        "\n",
        "# set the backend\n",
        "backend_name = \"aer_simulator\"\n",
        "backend = QuantumInstance(\n",
        "    Aer.get_backend(backend_name),\n",
        "    shots=1000,\n",
        "    seed_transpiler=algorithm_globals.random_seed,\n",
        "    seed_simulator=algorithm_globals.random_seed,\n",
        ")\n",
        "\n",
        "counts = []\n",
        "values = []\n",
        "\n",
        "\n",
        "def store_intermediate_result(eval_count, parameters, mean, std):\n",
        "    counts.append(eval_count)\n",
        "    values.append(mean)\n",
        "\n",
        "\n",
        "# initialize CVaR_alpha objective with alpha = 0.1\n",
        "cvar_exp = CVaRExpectation(0.1, PauliExpectation())\n",
        "\n",
        "# initialize VQE using CVaR\n",
        "vqe = VQE(\n",
        "    expectation=cvar_exp,\n",
        "    optimizer=optimizer,\n",
        "    ansatz=ansatz,\n",
        "    quantum_instance=backend,\n",
        "    callback=store_intermediate_result,\n",
        ")\n",
        "\n",
        "result = vqe.compute_minimum_eigenvalue(qubit_op)\n",
        "print(result)"
      ],
      "metadata": {
        "colab": {
          "base_uri": "https://localhost:8080/"
        },
        "id": "YDZi8XYqB0OP",
        "outputId": "63ba9ef5-2e76-4aad-9509-1ab6461719cd"
      },
      "id": "YDZi8XYqB0OP",
      "execution_count": null,
      "outputs": [
        {
          "output_type": "stream",
          "name": "stdout",
          "text": [
            "{   'aux_operator_eigenvalues': None,\n",
            "    'cost_function_evals': 50,\n",
            "    'eigenstate': {   '000001': 0.044721359549995794,\n",
            "                      '000101': 0.044721359549995794,\n",
            "                      '010001': 0.03162277660168379,\n",
            "                      '010101': 0.06324555320336758,\n",
            "                      '010111': 0.03162277660168379,\n",
            "                      '100000': 0.05477225575051661,\n",
            "                      '100001': 0.23874672772626646,\n",
            "                      '100010': 0.08366600265340755,\n",
            "                      '100011': 0.1224744871391589,\n",
            "                      '100100': 0.06324555320336758,\n",
            "                      '100101': 0.4449719092257398,\n",
            "                      '100110': 0.21213203435596426,\n",
            "                      '100111': 0.39749213828703583,\n",
            "                      '101000': 0.07745966692414834,\n",
            "                      '101001': 0.2863564212655271,\n",
            "                      '101010': 0.19493588689617927,\n",
            "                      '101011': 0.2863564212655271,\n",
            "                      '101100': 0.044721359549995794,\n",
            "                      '101101': 0.2024845673131659,\n",
            "                      '101110': 0.161245154965971,\n",
            "                      '101111': 0.25495097567963926,\n",
            "                      '110001': 0.20976176963403032,\n",
            "                      '110010': 0.08944271909999159,\n",
            "                      '110011': 0.1224744871391589,\n",
            "                      '110100': 0.044721359549995794,\n",
            "                      '110101': 0.20493901531919198,\n",
            "                      '110110': 0.07745966692414834,\n",
            "                      '110111': 0.1341640786499874,\n",
            "                      '111001': 0.044721359549995794,\n",
            "                      '111101': 0.10954451150103323,\n",
            "                      '111110': 0.07071067811865475,\n",
            "                      '111111': 0.08366600265340755},\n",
            "    'eigenvalue': (-1.0190000000000055+0j),\n",
            "    'optimal_parameters': {   ParameterVectorElement(θ[8]): -3.0271296314251086,\n",
            "                              ParameterVectorElement(θ[6]): 0.7838423033219764,\n",
            "                              ParameterVectorElement(θ[7]): 1.5249570586597203,\n",
            "                              ParameterVectorElement(θ[2]): -1.2475058364079998,\n",
            "                              ParameterVectorElement(θ[1]): -0.2848408802626148,\n",
            "                              ParameterVectorElement(θ[3]): -0.6969513139491474,\n",
            "                              ParameterVectorElement(θ[5]): 1.1535280557777838,\n",
            "                              ParameterVectorElement(θ[4]): 0.25319866634679444,\n",
            "                              ParameterVectorElement(θ[11]): 2.2075406912327287,\n",
            "                              ParameterVectorElement(θ[0]): -2.740387690029075,\n",
            "                              ParameterVectorElement(θ[10]): 0.2642867883228641,\n",
            "                              ParameterVectorElement(θ[9]): 0.9692262567242826},\n",
            "    'optimal_point': array([-2.74038769, -0.28484088, -1.24750584, -0.69695131,  0.25319867,\n",
            "        1.15352806,  0.7838423 ,  1.52495706, -3.02712963,  0.96922626,\n",
            "        0.26428679,  2.20754069]),\n",
            "    'optimal_value': -1.0190000000000055,\n",
            "    'optimizer_evals': None,\n",
            "    'optimizer_time': 2.801255702972412}\n"
          ]
        }
      ]
    },
    {
      "cell_type": "code",
      "source": [
        "import matplotlib.pyplot as plt\n",
        "\n",
        "fig = plt.figure()\n",
        "\n",
        "plt.plot(counts, values)\n",
        "plt.ylabel(\"Conformation Energy\")\n",
        "plt.xlabel(\"VQE Iterations\")\n",
        "\n",
        "fig.add_axes([0.44, 0.51, 0.44, 0.32])\n",
        "\n",
        "plt.plot(counts[40:], values[40:])\n",
        "plt.ylabel(\"Conformation Energy\")\n",
        "plt.xlabel(\"VQE Iterations\")\n",
        "plt.show()"
      ],
      "metadata": {
        "colab": {
          "base_uri": "https://localhost:8080/",
          "height": 279
        },
        "id": "ynrbMMKzB0da",
        "outputId": "5d392c54-6065-4e6b-80c9-943cd4c97240"
      },
      "id": "ynrbMMKzB0da",
      "execution_count": null,
      "outputs": [
        {
          "output_type": "display_data",
          "data": {
            "image/png": "[encoded data removed]",
            "text/plain": [
              "<Figure size 432x288 with 2 Axes>"
            ]
          },
          "metadata": {
            "needs_background": "light"
          }
        }
      ]
    },
    {
      "cell_type": "markdown",
      "source": [
        "## With 8192 Shots"
      ],
      "metadata": {
        "id": "ty8bofocCBCd"
      },
      "id": "ty8bofocCBCd"
    },
    {
      "cell_type": "code",
      "source": [
        "from qiskit.circuit.library import RealAmplitudes\n",
        "from qiskit.algorithms.optimizers import COBYLA\n",
        "from qiskit.algorithms import NumPyMinimumEigensolver, VQE\n",
        "from qiskit.opflow import PauliExpectation, CVaRExpectation\n",
        "from qiskit import execute, Aer\n",
        "\n",
        "# set classical optimizer\n",
        "optimizer = COBYLA(maxiter=50)\n",
        "\n",
        "# set variational ansatz\n",
        "ansatz = RealAmplitudes(reps=1)\n",
        "\n",
        "# set the backend\n",
        "backend_name = \"aer_simulator\"\n",
        "backend = QuantumInstance(\n",
        "    Aer.get_backend(backend_name),\n",
        "    shots=8192,\n",
        "    seed_transpiler=algorithm_globals.random_seed,\n",
        "    seed_simulator=algorithm_globals.random_seed,\n",
        ")\n",
        "\n",
        "counts = []\n",
        "values = []\n",
        "\n",
        "\n",
        "def store_intermediate_result(eval_count, parameters, mean, std):\n",
        "    counts.append(eval_count)\n",
        "    values.append(mean)\n",
        "\n",
        "\n",
        "# initialize CVaR_alpha objective with alpha = 0.1\n",
        "cvar_exp = CVaRExpectation(0.1, PauliExpectation())\n",
        "\n",
        "# initialize VQE using CVaR\n",
        "vqe = VQE(\n",
        "    expectation=cvar_exp,\n",
        "    optimizer=optimizer,\n",
        "    ansatz=ansatz,\n",
        "    quantum_instance=backend,\n",
        "    callback=store_intermediate_result,\n",
        ")\n",
        "\n",
        "result = vqe.compute_minimum_eigenvalue(qubit_op)\n",
        "print(result)"
      ],
      "metadata": {
        "colab": {
          "base_uri": "https://localhost:8080/"
        },
        "id": "LvS4o__2CGOs",
        "outputId": "9d7b5976-1567-4c2b-e00f-1433691f1289"
      },
      "id": "LvS4o__2CGOs",
      "execution_count": null,
      "outputs": [
        {
          "output_type": "stream",
          "name": "stdout",
          "text": [
            "{   'aux_operator_eigenvalues': None,\n",
            "    'cost_function_evals': 50,\n",
            "    'eigenstate': {   '000000': 0.14363106492851746,\n",
            "                      '000001': 0.06536406457297465,\n",
            "                      '000010': 0.5625,\n",
            "                      '000011': 0.321168824860851,\n",
            "                      '000100': 0.015625,\n",
            "                      '000101': 0.011048543456039806,\n",
            "                      '001000': 0.015625,\n",
            "                      '001010': 0.04555431167847891,\n",
            "                      '001011': 0.03125,\n",
            "                      '001100': 0.05412658773652741,\n",
            "                      '001101': 0.015625,\n",
            "                      '001110': 0.20817050928865982,\n",
            "                      '001111': 0.11158481919598204,\n",
            "                      '010000': 0.12103072956898178,\n",
            "                      '010001': 0.05846339666834283,\n",
            "                      '010010': 0.4648273368951099,\n",
            "                      '010011': 0.26539512111660984,\n",
            "                      '010100': 0.02209708691207961,\n",
            "                      '010101': 0.024705294220065465,\n",
            "                      '010110': 0.13026040625416457,\n",
            "                      '010111': 0.07733980419227864,\n",
            "                      '011000': 0.0855816496101822,\n",
            "                      '011001': 0.036643873123620545,\n",
            "                      '011010': 0.30075588367062744,\n",
            "                      '011011': 0.17608480733726006,\n",
            "                      '011100': 0.05182226234930312,\n",
            "                      '011110': 0.15229366163764005,\n",
            "                      '011111': 0.08341467384399462,\n",
            "                      '100010': 0.011048543456039806,\n",
            "                      '100011': 0.011048543456039806,\n",
            "                      '101010': 0.011048543456039806,\n",
            "                      '101011': 0.011048543456039806,\n",
            "                      '110010': 0.024705294220065465,\n",
            "                      '110011': 0.011048543456039806,\n",
            "                      '111110': 0.011048543456039806},\n",
            "    'eigenvalue': 0j,\n",
            "    'optimal_parameters': {   ParameterVectorElement(θ[8]): 0.8463792877027871,\n",
            "                              ParameterVectorElement(θ[11]): -1.6753431921616952,\n",
            "                              ParameterVectorElement(θ[9]): 2.2569738080876025,\n",
            "                              ParameterVectorElement(θ[10]): -0.014459268936528602,\n",
            "                              ParameterVectorElement(θ[7]): 2.7683897737290772,\n",
            "                              ParameterVectorElement(θ[3]): -1.5499117056945564,\n",
            "                              ParameterVectorElement(θ[1]): -3.0610226240215836,\n",
            "                              ParameterVectorElement(θ[5]): 1.6613895556624305,\n",
            "                              ParameterVectorElement(θ[2]): 2.062947537861036,\n",
            "                              ParameterVectorElement(θ[4]): 0.783563408369476,\n",
            "                              ParameterVectorElement(θ[6]): 2.18024157641206,\n",
            "                              ParameterVectorElement(θ[0]): 2.758502107235997},\n",
            "    'optimal_point': array([ 2.75850211, -3.06102262,  2.06294754, -1.54991171,  0.78356341,\n",
            "        1.66138956,  2.18024158,  2.76838977,  0.84637929,  2.25697381,\n",
            "       -0.01445927, -1.67534319]),\n",
            "    'optimal_value': 0.0,\n",
            "    'optimizer_evals': None,\n",
            "    'optimizer_time': 3.968033790588379}\n"
          ]
        }
      ]
    },
    {
      "cell_type": "code",
      "source": [
        "import matplotlib.pyplot as plt\n",
        "\n",
        "fig = plt.figure()\n",
        "\n",
        "plt.plot(counts, values)\n",
        "plt.ylabel(\"Conformation Energy\")\n",
        "plt.xlabel(\"VQE Iterations\")\n",
        "\n",
        "fig.add_axes([1.1, 0.01, 0.44, 0.32])\n",
        "\n",
        "plt.plot(counts[40:], values[40:])\n",
        "plt.ylabel(\"Conformation Energy\")\n",
        "plt.xlabel(\"VQE Iterations\")\n",
        "plt.show()"
      ],
      "metadata": {
        "colab": {
          "base_uri": "https://localhost:8080/",
          "height": 312
        },
        "id": "urg4zpuBCAk7",
        "outputId": "5950402e-e315-451a-d919-76b29bdfe437"
      },
      "id": "urg4zpuBCAk7",
      "execution_count": null,
      "outputs": [
        {
          "output_type": "display_data",
          "data": {
            "image/png": "[encoded data removed]",
            "text/plain": [
              "<Figure size 432x288 with 2 Axes>"
            ]
          },
          "metadata": {
            "needs_background": "light"
          }
        }
      ]
    },
    {
      "cell_type": "markdown",
      "source": [
        "## 2000 shots"
      ],
      "metadata": {
        "id": "vdMCeaoJCurW"
      },
      "id": "vdMCeaoJCurW"
    },
    {
      "cell_type": "code",
      "source": [
        "from qiskit.circuit.library import RealAmplitudes\n",
        "from qiskit.algorithms.optimizers import COBYLA\n",
        "from qiskit.algorithms import NumPyMinimumEigensolver, VQE\n",
        "from qiskit.opflow import PauliExpectation, CVaRExpectation\n",
        "from qiskit import execute, Aer\n",
        "\n",
        "# set classical optimizer\n",
        "optimizer = COBYLA(maxiter=50)\n",
        "\n",
        "# set variational ansatz\n",
        "ansatz = RealAmplitudes(reps=1)\n",
        "\n",
        "# set the backend\n",
        "backend_name = \"aer_simulator\"\n",
        "backend = QuantumInstance(\n",
        "    Aer.get_backend(backend_name),\n",
        "    shots=5000,\n",
        "    seed_transpiler=algorithm_globals.random_seed,\n",
        "    seed_simulator=algorithm_globals.random_seed,\n",
        ")\n",
        "\n",
        "counts = []\n",
        "values = []\n",
        "\n",
        "\n",
        "def store_intermediate_result(eval_count, parameters, mean, std):\n",
        "    counts.append(eval_count)\n",
        "    values.append(mean)\n",
        "\n",
        "\n",
        "# initialize CVaR_alpha objective with alpha = 0.1\n",
        "cvar_exp = CVaRExpectation(0.1, PauliExpectation())\n",
        "\n",
        "# initialize VQE using CVaR\n",
        "vqe = VQE(\n",
        "    expectation=cvar_exp,\n",
        "    optimizer=optimizer,\n",
        "    ansatz=ansatz,\n",
        "    quantum_instance=backend,\n",
        "    callback=store_intermediate_result,\n",
        ")\n",
        "\n",
        "result = vqe.compute_minimum_eigenvalue(qubit_op)\n",
        "print(result)"
      ],
      "metadata": {
        "colab": {
          "base_uri": "https://localhost:8080/"
        },
        "id": "zkNhQDGbCtzI",
        "outputId": "bdee2cde-3f7b-4a1e-b25d-4b3bd3258c22"
      },
      "id": "zkNhQDGbCtzI",
      "execution_count": null,
      "outputs": [
        {
          "output_type": "stream",
          "name": "stdout",
          "text": [
            "{   'aux_operator_eigenvalues': None,\n",
            "    'cost_function_evals': 50,\n",
            "    'eigenstate': {   '000000': 0.0469041575982343,\n",
            "                      '000001': 0.0938083151964686,\n",
            "                      '000010': 0.12569805089976535,\n",
            "                      '000011': 0.1131370849898476,\n",
            "                      '000100': 0.08124038404635961,\n",
            "                      '000101': 0.12806248474865697,\n",
            "                      '000110': 0.08717797887081347,\n",
            "                      '000111': 0.07348469228349534,\n",
            "                      '001000': 0.0282842712474619,\n",
            "                      '001001': 0.09486832980505137,\n",
            "                      '001010': 0.08944271909999159,\n",
            "                      '001011': 0.08124038404635961,\n",
            "                      '001100': 0.061644140029689765,\n",
            "                      '001101': 0.12489995996796796,\n",
            "                      '001110': 0.061644140029689765,\n",
            "                      '001111': 0.044721359549995794,\n",
            "                      '010001': 0.01414213562373095,\n",
            "                      '010010': 0.03741657386773942,\n",
            "                      '010011': 0.03162277660168379,\n",
            "                      '010101': 0.02449489742783178,\n",
            "                      '010110': 0.02,\n",
            "                      '100000': 0.1174734012447073,\n",
            "                      '100001': 0.2745906043549196,\n",
            "                      '100010': 0.3289376840679705,\n",
            "                      '100011': 0.30757112998459396,\n",
            "                      '100100': 0.17492855684535902,\n",
            "                      '100101': 0.3515679166249389,\n",
            "                      '100110': 0.23790754506740638,\n",
            "                      '100111': 0.16911534525287764,\n",
            "                      '101000': 0.09899494936611665,\n",
            "                      '101001': 0.22226110770892868,\n",
            "                      '101010': 0.23706539182259395,\n",
            "                      '101011': 0.21540659228538014,\n",
            "                      '101100': 0.15811388300841897,\n",
            "                      '101101': 0.31144823004794875,\n",
            "                      '101110': 0.15491933384829668,\n",
            "                      '101111': 0.11401754250991379,\n",
            "                      '110000': 0.01414213562373095,\n",
            "                      '110001': 0.04898979485566356,\n",
            "                      '110010': 0.061644140029689765,\n",
            "                      '110011': 0.06324555320336758,\n",
            "                      '110100': 0.0282842712474619,\n",
            "                      '110101': 0.061644140029689765,\n",
            "                      '110110': 0.042426406871192854,\n",
            "                      '110111': 0.0282842712474619,\n",
            "                      '111001': 0.01414213562373095,\n",
            "                      '111100': 0.01414213562373095,\n",
            "                      '111101': 0.0282842712474619,\n",
            "                      '111110': 0.01414213562373095},\n",
            "    'eigenvalue': (-1.0190000000000055+0j),\n",
            "    'optimal_parameters': {   ParameterVectorElement(θ[11]): -1.4429043645984747,\n",
            "                              ParameterVectorElement(θ[9]): -1.8294661649291397,\n",
            "                              ParameterVectorElement(θ[10]): 2.933538936438948,\n",
            "                              ParameterVectorElement(θ[4]): 0.023280803553639373,\n",
            "                              ParameterVectorElement(θ[5]): -2.4339588640405183,\n",
            "                              ParameterVectorElement(θ[6]): -1.3176177816730061,\n",
            "                              ParameterVectorElement(θ[8]): -0.20866915601856073,\n",
            "                              ParameterVectorElement(θ[7]): 1.3725267827233205,\n",
            "                              ParameterVectorElement(θ[0]): 2.7289642774744296,\n",
            "                              ParameterVectorElement(θ[3]): 2.907549135536456,\n",
            "                              ParameterVectorElement(θ[1]): 1.4923461550729726,\n",
            "                              ParameterVectorElement(θ[2]): 0.11419892935051834},\n",
            "    'optimal_point': array([ 2.72896428,  1.49234616,  0.11419893,  2.90754914,  0.0232808 ,\n",
            "       -2.43395886, -1.31761778,  1.37252678, -0.20866916, -1.82946616,\n",
            "        2.93353894, -1.44290436]),\n",
            "    'optimal_value': -1.0190000000000055,\n",
            "    'optimizer_evals': None,\n",
            "    'optimizer_time': 4.509207487106323}\n"
          ]
        }
      ]
    },
    {
      "cell_type": "code",
      "source": [
        "import matplotlib.pyplot as plt\n",
        "\n",
        "fig = plt.figure()\n",
        "\n",
        "plt.plot(counts, values)\n",
        "plt.ylabel(\"Conformation Energy\")\n",
        "plt.xlabel(\"VQE Iterations\")\n",
        "\n",
        "fig.add_axes([1.1, 0.01, 0.44, 0.32])\n",
        "\n",
        "plt.plot(counts[40:], values[40:])\n",
        "plt.ylabel(\"Conformation Energy\")\n",
        "plt.xlabel(\"VQE Iterations\")\n",
        "plt.show()"
      ],
      "metadata": {
        "colab": {
          "base_uri": "https://localhost:8080/",
          "height": 312
        },
        "id": "gz5ssOIADFFC",
        "outputId": "13cc09f3-07c3-4238-baa3-27ef9bafa55a"
      },
      "id": "gz5ssOIADFFC",
      "execution_count": null,
      "outputs": [
        {
          "output_type": "display_data",
          "data": {
            "image/png": "[encoded data removed]",
            "text/plain": [
              "<Figure size 432x288 with 2 Axes>"
            ]
          },
          "metadata": {
            "needs_background": "light"
          }
        }
      ]
    }
  ],
  "metadata": {
    "kernelspec": {
      "display_name": "Qiskit v0.34.2 (ipykernel)",
      "language": "python",
      "name": "python3"
    },
    "language_info": {
      "codemirror_mode": {
        "name": "ipython",
        "version": 3
      },
      "file_extension": ".py",
      "mimetype": "text/x-python",
      "name": "python",
      "nbconvert_exporter": "python",
      "pygments_lexer": "ipython3",
      "version": "3.8.12"
    },
    "colab": {
      "name": "QHack 2022 Open Hackathon Project  .ipynb",
      "provenance": [],
      "collapsed_sections": []
    }
  },
  "nbformat": 4,
  "nbformat_minor": 5
}